{
 "cells": [
  {
   "cell_type": "code",
   "execution_count": 33,
   "metadata": {},
   "outputs": [],
   "source": [
    "import pickle\n",
    "import glob\n",
    "import numpy as np\n",
    "from music21 import *\n",
    "from keras.models import Sequential\n",
    "from keras.layers import Dense\n",
    "from keras.layers import Dropout\n",
    "from keras.layers import LSTM\n",
    "from keras.layers import BatchNormalization as BatchNorm\n",
    "from keras.layers import Activation\n",
    "from keras.utils import np_utils\n",
    "from keras.callbacks import ModelCheckpoint\n",
    "import tensorflow as tf"
   ]
  },
  {
   "cell_type": "markdown",
   "metadata": {},
   "source": [
    "train model"
   ]
  },
  {
   "cell_type": "code",
   "execution_count": 26,
   "metadata": {},
   "outputs": [],
   "source": [
    "#function to get data\n",
    "def get_notes():\n",
    "    notes = []\n",
    "    for file in glob.glob(\"dataset_ff/*.mid\"):\n",
    "        midi = converter.parse(file)\n",
    "        print(\"Parsing %s\" % file)\n",
    "        notes_to_parse = None\n",
    "        #file has instrumental parts\n",
    "        try:\n",
    "            s2 = instrument.partitionByInstrument(midi)\n",
    "            notes_to_parse = s2.parts[0].recurse() \n",
    "        #file has notes in a flat structure\n",
    "        except: \n",
    "            notes_to_parse = midi.flat.notes\n",
    "        for element in notes_to_parse:\n",
    "            if isinstance(element, note.Note):\n",
    "                notes.append(str(element.pitch))\n",
    "            elif isinstance(element, chord.Chord):\n",
    "                notes.append('.'.join(str(n) for n in element.normalOrder))\n",
    "    with open('notes/notes', 'wb') as filepath:\n",
    "        pickle.dump(notes, filepath)\n",
    "    return notes"
   ]
  },
  {
   "cell_type": "code",
   "execution_count": 27,
   "metadata": {},
   "outputs": [],
   "source": [
    "#make the sequences to be used by the neural network\n",
    "def prepare_sequences(notes, n_vocab):\n",
    "    #length for the input\n",
    "    sequence_length = 100\n",
    "    #get all pitch names\n",
    "    pitchnames = sorted(set(item for item in notes))\n",
    "    #create a dictionary to map pitches to integers\n",
    "    note_to_int = dict((note, number) for number, note in enumerate(pitchnames))\n",
    "    network_input = []\n",
    "    network_output = []\n",
    "    #create input sequences and the corresponding outputs\n",
    "    #output will be the first note after the respective input\n",
    "    for i in range(0, len(notes) - sequence_length, 1):\n",
    "        sequence_in = notes[i:i + sequence_length]\n",
    "        sequence_out = notes[i + sequence_length]\n",
    "        network_input.append([note_to_int[char] for char in sequence_in])\n",
    "        network_output.append(note_to_int[sequence_out])\n",
    "    n_patterns = len(network_input)\n",
    "    #reshape for lstm\n",
    "    network_input = np.reshape(network_input, (n_patterns, sequence_length, 1))\n",
    "    network_input = network_input / float(n_vocab)\n",
    "    network_output = np_utils.to_categorical(network_output)\n",
    "    return (network_input, network_output)"
   ]
  },
  {
   "cell_type": "code",
   "execution_count": 28,
   "metadata": {},
   "outputs": [],
   "source": [
    "#structure of the neural network\n",
    "def create_network(network_input, n_vocab):\n",
    "    model = Sequential()\n",
    "    model.add(LSTM(512,input_shape=(network_input.shape[1], network_input.shape[2]),recurrent_dropout=0.3,return_sequences=True))\n",
    "    model.add(LSTM(512, return_sequences=True, recurrent_dropout=0.3,))\n",
    "    model.add(LSTM(512))\n",
    "    model.add(BatchNorm())\n",
    "    model.add(Dropout(0.3))\n",
    "    model.add(Dense(256))\n",
    "    model.add(Activation('relu'))\n",
    "    model.add(BatchNorm())\n",
    "    model.add(Dropout(0.3))\n",
    "    model.add(Dense(n_vocab))\n",
    "    model.add(Activation('softmax'))\n",
    "    model.compile(loss='categorical_crossentropy', optimizer='rmsprop')\n",
    "    return model"
   ]
  },
  {
   "cell_type": "code",
   "execution_count": 29,
   "metadata": {},
   "outputs": [],
   "source": [
    "#train the neural network\n",
    "def train(model, network_input, network_output):\n",
    "    filepath = \"weights/weights-improvement-{epoch:02d}-{loss:.4f}-bigger.hdf5\"\n",
    "    checkpoint = ModelCheckpoint(filepath,monitor='loss',verbose=0,save_best_only=True,mode='min')\n",
    "    callbacks_list = [checkpoint]\n",
    "    model.fit(network_input, network_output, epochs=1, batch_size=128, callbacks=callbacks_list)"
   ]
  },
  {
   "cell_type": "code",
   "execution_count": 30,
   "metadata": {},
   "outputs": [],
   "source": [
    "def train_network():\n",
    "    notes = get_notes()\n",
    "    n_vocab = len(set(notes))\n",
    "    network_input, network_output = prepare_sequences(notes, n_vocab)\n",
    "    model = create_network(network_input, n_vocab)\n",
    "    train(model, network_input, network_output)"
   ]
  },
  {
   "cell_type": "code",
   "execution_count": 31,
   "metadata": {},
   "outputs": [
    {
     "name": "stdout",
     "output_type": "stream",
     "text": [
      "Parsing dataset_ff\\0fithos.mid\n",
      "Parsing dataset_ff\\8.mid\n",
      "Parsing dataset_ff\\ahead_on_our_way_piano.mid\n",
      "Parsing dataset_ff\\AT.mid\n",
      "Parsing dataset_ff\\balamb.mid\n",
      "Parsing dataset_ff\\bcm.mid\n",
      "Parsing dataset_ff\\BlueStone_LastDungeon.mid\n",
      "Parsing dataset_ff\\braska.mid\n",
      "Parsing dataset_ff\\caitsith.mid\n",
      "Parsing dataset_ff\\Cids.mid\n",
      "Parsing dataset_ff\\cosmo.mid\n",
      "Parsing dataset_ff\\costadsol.mid\n",
      "Parsing dataset_ff\\dayafter.mid\n",
      "Parsing dataset_ff\\decisive.mid\n",
      "Parsing dataset_ff\\dontbeafraid.mid\n",
      "Parsing dataset_ff\\DOS.mid\n",
      "Parsing dataset_ff\\electric_de_chocobo.mid\n",
      "Parsing dataset_ff\\Eternal_Harvest.mid\n",
      "Parsing dataset_ff\\EyesOnMePiano.mid\n",
      "Parsing dataset_ff\\ff11_awakening_piano.mid\n",
      "Parsing dataset_ff\\ff1battp.mid\n",
      "Parsing dataset_ff\\FF3_Battle_(Piano).mid\n",
      "Parsing dataset_ff\\FF3_Third_Phase_Final_(Piano).mid\n",
      "Parsing dataset_ff\\ff4-airship.mid\n",
      "Parsing dataset_ff\\Ff4-BattleLust.mid\n",
      "Parsing dataset_ff\\ff4-fight1.mid\n",
      "Parsing dataset_ff\\ff4-town.mid\n",
      "Parsing dataset_ff\\FF4.mid\n",
      "Parsing dataset_ff\\ff4pclov.mid\n",
      "Parsing dataset_ff\\ff4_piano_collections-main_theme.mid\n",
      "Parsing dataset_ff\\FF6epitaph_piano.mid\n",
      "Parsing dataset_ff\\ff6shap.mid\n",
      "Parsing dataset_ff\\Ff7-Cinco.mid\n",
      "Parsing dataset_ff\\Ff7-Jenova_Absolute.mid\n",
      "Parsing dataset_ff\\ff7-mainmidi.mid\n",
      "Parsing dataset_ff\\Ff7-One_Winged.mid\n",
      "Parsing dataset_ff\\ff7themep.mid\n",
      "Parsing dataset_ff\\ff8-lfp.mid\n",
      "Parsing dataset_ff\\FF8_Shuffle_or_boogie_pc.mid\n",
      "Parsing dataset_ff\\FFIII_Edgar_And_Sabin_Piano.mid\n",
      "Parsing dataset_ff\\FFIXQuMarshP.mid\n",
      "Parsing dataset_ff\\FFIX_Piano.mid\n",
      "Parsing dataset_ff\\FFVII_BATTLE.mid\n",
      "Parsing dataset_ff\\FFX_-_Ending_Theme_(Piano_Version)_-_by_Angel_FF.mid\n",
      "Parsing dataset_ff\\Fiend_Battle_(Piano).mid\n",
      "Parsing dataset_ff\\Fierce_Battle_(Piano).mid\n",
      "Parsing dataset_ff\\figaro.mid\n",
      "Parsing dataset_ff\\Finalfantasy5gilgameshp.mid\n",
      "Parsing dataset_ff\\Finalfantasy6fanfarecomplete.mid\n",
      "Parsing dataset_ff\\Final_Fantasy_7_-_Judgement_Day_Piano.mid\n",
      "Parsing dataset_ff\\Final_Fantasy_Matouyas_Cave_Piano.mid\n",
      "Parsing dataset_ff\\fortresscondor.mid\n",
      "Parsing dataset_ff\\Fyw_piano.mid\n",
      "Parsing dataset_ff\\gerudo.mid\n",
      "Parsing dataset_ff\\goldsaucer.mid\n",
      "Parsing dataset_ff\\Gold_Silver_Rival_Battle.mid\n",
      "Parsing dataset_ff\\great_war.mid\n",
      "Parsing dataset_ff\\HighwindTakestotheSkies.mid\n",
      "Parsing dataset_ff\\In_Zanarkand.mid\n",
      "Parsing dataset_ff\\JENOVA.mid\n",
      "Parsing dataset_ff\\Kingdom_Hearts_Dearly_Beloved.mid\n",
      "Parsing dataset_ff\\Kingdom_Hearts_Traverse_Town.mid\n",
      "Parsing dataset_ff\\Life_Stream.mid\n",
      "Parsing dataset_ff\\lurk_in_dark.mid\n",
      "Parsing dataset_ff\\mining.mid\n",
      "Parsing dataset_ff\\Oppressed.mid\n",
      "Parsing dataset_ff\\OTD5YA.mid\n",
      "Parsing dataset_ff\\path_of_repentance.mid\n",
      "Parsing dataset_ff\\pkelite4.mid\n",
      "Parsing dataset_ff\\Rachel_Piano_tempofix.mid\n",
      "Parsing dataset_ff\\redwings.mid\n",
      "Parsing dataset_ff\\relmstheme-piano.mid\n",
      "Parsing dataset_ff\\roseofmay-piano.mid\n",
      "Parsing dataset_ff\\rufus.mid\n",
      "Parsing dataset_ff\\Rydia_pc.mid\n",
      "Parsing dataset_ff\\sandy.mid\n",
      "Parsing dataset_ff\\sera_.mid\n",
      "Parsing dataset_ff\\sobf.mid\n",
      "Parsing dataset_ff\\Still_Alive-1.mid\n",
      "Parsing dataset_ff\\Suteki_Da_Ne_(Piano_Version).mid\n",
      "Parsing dataset_ff\\thenightmarebegins.mid\n",
      "Parsing dataset_ff\\thoughts.mid\n",
      "Parsing dataset_ff\\tifap.mid\n",
      "Parsing dataset_ff\\tpirtsd-piano.mid\n",
      "Parsing dataset_ff\\traitor.mid\n",
      "Parsing dataset_ff\\ultimafro.mid\n",
      "Parsing dataset_ff\\ultros.mid\n",
      "Parsing dataset_ff\\VincentPiano.mid\n",
      "Parsing dataset_ff\\ViviinAlexandria.mid\n",
      "Parsing dataset_ff\\waltz_de_choco.mid\n",
      "Parsing dataset_ff\\Zelda_Overworld.mid\n",
      "Parsing dataset_ff\\z_aeristhemepiano.mid\n",
      "Epoch 1/1\n",
      "57077/57077 [==============================] - 749s 13ms/step - loss: 5.3526\n"
     ]
    }
   ],
   "source": [
    "train_network()"
   ]
  },
  {
   "cell_type": "markdown",
   "metadata": {},
   "source": [
    "generate music"
   ]
  },
  {
   "cell_type": "code",
   "execution_count": 19,
   "metadata": {},
   "outputs": [],
   "source": [
    "#generate piano midi file\n",
    "def generate():\n",
    "    #load notes used to train model\n",
    "    with open('data/notes', 'rb') as filepath:\n",
    "        notes = pickle.load(filepath)\n",
    "    #get pitch names\n",
    "    pitchnames = sorted(set(item for item in notes))\n",
    "    n_vocab = len(set(notes))\n",
    "    network_input, normalized_input = prepare_sequences(notes, pitchnames, n_vocab)\n",
    "    model = create_network(normalized_input, n_vocab)\n",
    "    prediction_output = generate_notes(model, network_input, pitchnames, n_vocab)\n",
    "    create_midi(prediction_output)"
   ]
  },
  {
   "cell_type": "code",
   "execution_count": 20,
   "metadata": {},
   "outputs": [],
   "source": [
    "#prepare sequences used by the neural network\n",
    "def prepare_sequences(notes, pitchnames, n_vocab):\n",
    "    #map notes & int\n",
    "    note_to_int = dict((note, number) for number, note in enumerate(pitchnames))\n",
    "    sequence_length = 100\n",
    "    network_input = []\n",
    "    output = []\n",
    "    for i in range(0, len(notes) - sequence_length, 1):\n",
    "        sequence_in = notes[i:i + sequence_length]\n",
    "        sequence_out = notes[i + sequence_length]\n",
    "        network_input.append([note_to_int[char] for char in sequence_in])\n",
    "        output.append(note_to_int[sequence_out])\n",
    "    n_patterns = len(network_input)\n",
    "    #reshape\n",
    "    normalized_input = np.reshape(network_input, (n_patterns, sequence_length, 1))\n",
    "    normalized_input = normalized_input / float(n_vocab)\n",
    "    return (network_input, normalized_input)"
   ]
  },
  {
   "cell_type": "code",
   "execution_count": 21,
   "metadata": {},
   "outputs": [],
   "source": [
    "#structure of network\n",
    "def create_network(network_input, n_vocab):\n",
    "    model = Sequential()\n",
    "    model.add(LSTM(512,input_shape=(network_input.shape[1], network_input.shape[2]),recurrent_dropout=0.3,return_sequences=True))\n",
    "    model.add(LSTM(512, return_sequences=True, recurrent_dropout=0.3,))\n",
    "    model.add(LSTM(512))\n",
    "    model.add(BatchNorm())\n",
    "    model.add(Dropout(0.3))\n",
    "    model.add(Dense(256))\n",
    "    model.add(Activation('relu'))\n",
    "    model.add(BatchNorm())\n",
    "    model.add(Dropout(0.3))\n",
    "    model.add(Dense(n_vocab))\n",
    "    model.add(Activation('softmax'))\n",
    "    model.compile(loss='categorical_crossentropy', optimizer='rmsprop')\n",
    "    model.load_weights('weights-improvement-02-4.6367-bigger.hdf5')\n",
    "    return model"
   ]
  },
  {
   "cell_type": "code",
   "execution_count": 22,
   "metadata": {},
   "outputs": [],
   "source": [
    "#generate notes\n",
    "def generate_notes(model, network_input, pitchnames, n_vocab):\n",
    "    #pick a random sequence from the input as a starting point for the prediction\n",
    "    start = np.random.randint(0, len(network_input)-1)\n",
    "    int_to_note = dict((number, note) for number, note in enumerate(pitchnames))\n",
    "    pattern = network_input[start]\n",
    "    prediction_output = []\n",
    "    #generate 500 notes\n",
    "    for note_index in range(500):\n",
    "        prediction_input = np.reshape(pattern, (1, len(pattern), 1))\n",
    "        prediction_input = prediction_input / float(n_vocab)\n",
    "        prediction = model.predict(prediction_input, verbose=0)\n",
    "        index = np.argmax(prediction)\n",
    "        result = int_to_note[index]\n",
    "        prediction_output.append(result)\n",
    "        pattern.append(index)\n",
    "        pattern = pattern[1:len(pattern)]\n",
    "    return prediction_output"
   ]
  },
  {
   "cell_type": "code",
   "execution_count": 23,
   "metadata": {},
   "outputs": [],
   "source": [
    "#output\n",
    "def create_midi(prediction_output):\n",
    "    offset = 0\n",
    "    output_notes = []\n",
    "    for pattern in prediction_output:\n",
    "        #pattern is a chord\n",
    "        if ('.' in pattern) or pattern.isdigit():\n",
    "            notes_in_chord = pattern.split('.')\n",
    "            notes = []\n",
    "            for current_note in notes_in_chord:\n",
    "                new_note = note.Note(int(current_note))\n",
    "                new_note.storedInstrument = instrument.Piano()\n",
    "                notes.append(new_note)\n",
    "            new_chord = chord.Chord(notes)\n",
    "            new_chord.offset = offset\n",
    "            output_notes.append(new_chord)\n",
    "        #pattern is a note\n",
    "        else:\n",
    "            new_note = note.Note(pattern)\n",
    "            new_note.offset = offset\n",
    "            new_note.storedInstrument = instrument.Piano()\n",
    "            output_notes.append(new_note)\n",
    "        # increase offset each iteration so that notes do not stack\n",
    "        offset += 0.5\n",
    "    midi_stream = stream.Stream(output_notes)\n",
    "    midi_stream.write('midi', fp='test_output.mid')"
   ]
  },
  {
   "cell_type": "code",
   "execution_count": null,
   "metadata": {},
   "outputs": [],
   "source": [
    "generate()"
   ]
  },
  {
   "cell_type": "code",
   "execution_count": 32,
   "metadata": {},
   "outputs": [
    {
     "name": "stdout",
     "output_type": "stream",
     "text": [
      "Num GPUs Available:  1\n"
     ]
    }
   ],
   "source": [
    "import tensorflow as tf\n",
    "print(\"Num GPUs Available: \", len(tf.config.experimental.list_physical_devices('GPU')))"
   ]
  },
  {
   "cell_type": "code",
   "execution_count": 34,
   "metadata": {},
   "outputs": [
    {
     "name": "stdout",
     "output_type": "stream",
     "text": [
      "Tensor(\"MatMul:0\", shape=(2, 2), dtype=float32)\n"
     ]
    }
   ],
   "source": [
    "tf.debugging.set_log_device_placement(True)\n",
    "\n",
    "# Create some tensors\n",
    "a = tf.constant([[1.0, 2.0, 3.0], [4.0, 5.0, 6.0]])\n",
    "b = tf.constant([[1.0, 2.0], [3.0, 4.0], [5.0, 6.0]])\n",
    "c = tf.matmul(a, b)\n",
    "\n",
    "print(c)"
   ]
  },
  {
   "cell_type": "code",
   "execution_count": 35,
   "metadata": {},
   "outputs": [],
   "source": [
    "tf.debugging.set_log_device_placement(True)"
   ]
  },
  {
   "cell_type": "code",
   "execution_count": null,
   "metadata": {},
   "outputs": [],
   "source": []
  }
 ],
 "metadata": {
  "kernelspec": {
   "display_name": "Python 3",
   "language": "python",
   "name": "python3"
  },
  "language_info": {
   "codemirror_mode": {
    "name": "ipython",
    "version": 3
   },
   "file_extension": ".py",
   "mimetype": "text/x-python",
   "name": "python",
   "nbconvert_exporter": "python",
   "pygments_lexer": "ipython3",
   "version": "3.7.6"
  }
 },
 "nbformat": 4,
 "nbformat_minor": 4
}
